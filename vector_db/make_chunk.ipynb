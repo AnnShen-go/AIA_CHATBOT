{
 "cells": [
  {
   "cell_type": "markdown",
   "metadata": {},
   "source": [
    "# 將QA資料集整理成檔案"
   ]
  },
  {
   "cell_type": "code",
   "execution_count": 2,
   "metadata": {},
   "outputs": [],
   "source": [
    "import requests\n",
    "import csv\n",
    "response = requests.get(\"https://aiacademy.tw/AIA_QA/qa_data_12AJAJCIqeck45.php\")\n",
    "data = response.json()  # Decode the JSON data"
   ]
  },
  {
   "cell_type": "code",
   "execution_count": 3,
   "metadata": {},
   "outputs": [
    {
     "name": "stdout",
     "output_type": "stream",
     "text": [
      "0 ['常見問題', '回答']\n",
      "1 ['如何請假?', '若學員因故有請假需求，請填妥請假表單進行申請 https://reurl.cc/xZNOAL校務行政處核可後，系統將會直接寄送請假核可通知至您的信箱中。請假申請審核過後，仍計入缺席時數。本課程無補課機制。']\n",
      "2 ['何時會寄發技術領袖全域班入學考試連結?', '技術領袖全域班考試連結會於考試前一天17:00前寄發連結並加發簡訊給應考者，線上入學考的連結於考試開始方可登入。']\n",
      "3 ['我已完成報名繳費，何時可以收到發票?', '個人用電子發票會於開學後第二週上課日由學務通知領取。\\n公司報帳用電子發票會於開學後第二週由學務 mail 至學員報名時的電子信箱。\\n若需提早或延後開立發票，請發信至hi@aiacademy.tw詢問。']\n",
      "4 ['我已過繳費期限?', '因原先繳費期限已過期，請發信至 hi@aiacademy.tw 並提供您的姓名及報名時填寫的電子郵件信箱。我們將會重新寄發{報名及註冊的登記已可進行下一步報名作業}信件至您的電子信箱。']\n"
     ]
    }
   ],
   "source": [
    "for i,d in enumerate(data[:5]):\n",
    "  print(i,d)\n",
    "\n",
    "#Save the data to a CSV file\n",
    "with open('QA_課前.csv', 'w', newline='', encoding='utf-8') as file:\n",
    "    writer = csv.writer(file)\n",
    "    writer.writerows(data[0:31])# 課前\n",
    "with open('QA_課中.csv', 'w', newline='', encoding='utf-8') as file:\n",
    "    writer = csv.writer(file)\n",
    "    writer.writerows(data[31:46])# 課中\n",
    "with open('QA_課後.csv', 'w', newline='', encoding='utf-8') as file:\n",
    "    writer = csv.writer(file)\n",
    "    writer.writerows(data[46:]) # 課後"
   ]
  },
  {
   "cell_type": "code",
   "execution_count": 4,
   "metadata": {},
   "outputs": [],
   "source": [
    "from langchain_community.document_loaders.csv_loader import CSVLoader\n",
    "\n",
    "loader = CSVLoader(file_path='QA_課前.csv')\n",
    "data = loader.load()\n",
    "docs=[]"
   ]
  },
  {
   "cell_type": "code",
   "execution_count": null,
   "metadata": {},
   "outputs": [],
   "source": [
    "from langchain.text_splitter import CharacterTextSplitter\n",
    "from langchain.text_splitter import RecursiveCharacterTextSplitter\n",
    "splitter = RecursiveCharacterTextSplitter(\n",
    "    chunk_size=450,\n",
    "    chunk_overlap=0,\n",
    "    separators=[\"\\n\\n\", \"\\n\", \" \", \"\"]\n",
    ")\n",
    "docs += splitter.split_documents(data)"
   ]
  }
 ],
 "metadata": {
  "kernelspec": {
   "display_name": "Python 3",
   "language": "python",
   "name": "python3"
  },
  "language_info": {
   "codemirror_mode": {
    "name": "ipython",
    "version": 3
   },
   "file_extension": ".py",
   "mimetype": "text/x-python",
   "name": "python",
   "nbconvert_exporter": "python",
   "pygments_lexer": "ipython3",
   "version": "3.10.12"
  }
 },
 "nbformat": 4,
 "nbformat_minor": 2
}
