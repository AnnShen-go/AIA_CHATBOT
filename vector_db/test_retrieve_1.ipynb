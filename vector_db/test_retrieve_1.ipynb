{
 "cells": [
  {
   "cell_type": "markdown",
   "id": "c149a91e-ed36-42e5-897c-7ef594f3a5fe",
   "metadata": {},
   "source": [
    "### Prerequisite"
   ]
  },
  {
   "cell_type": "code",
   "execution_count": 2,
   "id": "454ca430-9b69-44bd-b687-29bb65c03604",
   "metadata": {
    "editable": true,
    "slideshow": {
     "slide_type": ""
    },
    "tags": []
   },
   "outputs": [],
   "source": [
    "# !pip install langchain\n",
    "# !pip install chromadb\n",
    "# !pip install sentence-transformers"
   ]
  },
  {
   "cell_type": "code",
   "execution_count": 1,
   "id": "bd34e83a-0dfe-4c54-a5b7-cc19975ca80b",
   "metadata": {},
   "outputs": [],
   "source": [
    "from langchain.retrievers.multi_vector import MultiVectorRetriever\n",
    "from langchain.prompts import PromptTemplate\n",
    "from langchain_community.vectorstores import Chroma\n",
    "from langchain_core.output_parsers import StrOutputParser\n",
    "\n",
    "from langchain.storage._lc_store import create_kv_docstore"
   ]
  },
  {
   "cell_type": "code",
   "execution_count": 2,
   "id": "ab69fa7f-c156-43c5-a47c-d90781887a7c",
   "metadata": {
    "editable": true,
    "slideshow": {
     "slide_type": ""
    },
    "tags": []
   },
   "outputs": [],
   "source": [
    "import chromadb\n",
    "from chromadb.config import Settings"
   ]
  },
  {
   "cell_type": "markdown",
   "id": "cd8e2b11-12f3-453c-b165-eb08374fd63c",
   "metadata": {},
   "source": [
    "指定Chromadb client"
   ]
  },
  {
   "cell_type": "code",
   "execution_count": 13,
   "id": "20fe6241-1ee7-48f6-ac6a-7a4d44889663",
   "metadata": {},
   "outputs": [
    {
     "data": {
      "text/plain": [
       "[Collection(name=xt131028_v),\n",
       " Collection(name=xt131028),\n",
       " Collection(name=simple_html_Stella_Base_zh_v3_1792d_t13_aia_with_qa),\n",
       " Collection(name=simple_html_nomic_embed_text_v1_f16_t5),\n",
       " Collection(name=X131010),\n",
       " Collection(name=my_collection),\n",
       " Collection(name=simple_html_nomic_embed_text_v1_f16_t6_with_qa),\n",
       " Collection(name=xt131028_v1),\n",
       " Collection(name=xt131028_v1.1),\n",
       " Collection(name=simple_html_nomic_embed_text_v1_f16_t8_aia_with_qa)]"
      ]
     },
     "execution_count": 13,
     "metadata": {},
     "output_type": "execute_result"
    }
   ],
   "source": [
    "#連線設定\n",
    "httpClient = chromadb.HttpClient(\n",
    "  host='64.176.47.89', port=8000,\n",
    "  settings=Settings(chroma_client_auth_provider=\"basic\",chroma_client_auth_credentials=\"admin:admin\")\n",
    "  )\n",
    "\n",
    "collections = httpClient.list_collections() #資料庫列表\n",
    "collections"
   ]
  },
  {
   "cell_type": "code",
   "execution_count": 14,
   "id": "60d361cc-b204-40e8-a09c-dc677c71d633",
   "metadata": {},
   "outputs": [],
   "source": [
    "import json\n",
    "import sqlite3\n",
    "from typing import Tuple, Iterator\n",
    "from typing import Sequence, List, Optional\n",
    "from langchain.schema import BaseStore\n",
    "from pypika import Query, Table, Field, Column"
   ]
  },
  {
   "cell_type": "markdown",
   "id": "20f3e3e7-570d-4b74-8b6f-b3054c7b8d37",
   "metadata": {},
   "source": [
    "指定做為docstore的sqlite3資料庫檔案的路徑\n",
    "\n",
    "GoogleDrive下載:\n",
    "\n",
    "https://drive.google.com/drive/folders/1h5y150ObqGHXhxAkVWOqvgt9U3MUXhE9?usp=sharing\n",
    "\n",
    "\n",
    "．chroma_t5.sqlite3 : 抓取AIA官網下的所有簡章html  \n",
    "．chroma_t6_with_qa.sqlite3 : AIA官網簡章html，加上47個QA集  \n",
    "．chroma_t8_aia_with_qa.sqlite3 : 5個範例word簡章，加上47個QA集  "
   ]
  },
  {
   "cell_type": "code",
   "execution_count": 15,
   "id": "923238b5-dde2-49f5-a82c-adb4953bc549",
   "metadata": {
    "editable": true,
    "slideshow": {
     "slide_type": ""
    },
    "tags": []
   },
   "outputs": [
    {
     "name": "stdout",
     "output_type": "stream",
     "text": [
      "done\n"
     ]
    }
   ],
   "source": [
    "# 註解打開選一個 DB，需要與之後的 chromadb 的 collection相對應。 選好後直接shift+enter執行。\n",
    "\n",
    "# choose_one = \"chroma_t5.sqlite3\"\n",
    "# choose_one = \"chroma_t6_with_qa.sqlite3\"\n",
    "# choose_one = \"chroma_t8_aia_with_qa.sqlite3\"\n",
    "choose_one = \"chroma_t13_aia_with_qa.sqlite3\"\n",
    "\n",
    "\n",
    "sqlite3_db_path = choose_one\n",
    "\n",
    "\n",
    "class ChromaStore_sqlite3(BaseStore[str, bytes]):\n",
    "\n",
    "    def __init__(self, path, table_name):\n",
    "        self.connection = sqlite3.connect('{path}/{db_path}'.format(path=path, db_path=self.sqlite3_db_path))\n",
    "        self.table = Table(table_name)\n",
    "        self.id_column = Field('id')\n",
    "        self.data_column = Field('data')\n",
    "        self._create_table()\n",
    "\n",
    "    def _create_table(self):\n",
    "        id_column = Column('id', 'VARCHAR(50)', nullable=False)\n",
    "        data_column = Column('data', 'VARCHAR(2500)', nullable=False)\n",
    "        create_table_query = Query.create_table(self.table).columns(id_column, data_column).if_not_exists()\n",
    "        cursor = self.connection.cursor()\n",
    "        cursor.execute(create_table_query.get_sql())\n",
    "        cursor.close()\n",
    "\n",
    "    def mget(self, keys: Sequence[str]) -> List[Optional[bytes]]:\n",
    "        cursor = self.connection.cursor()\n",
    "        data_list = []\n",
    "\n",
    "        for key in keys:\n",
    "            \n",
    "            key = [key]\n",
    "            select_query = Query.from_(self.table).select(self.data_column).where(self.id_column.isin(key))\n",
    "    \n",
    "            cursor.execute(select_query.get_sql())\n",
    "            results = cursor.fetchall()\n",
    "    \n",
    "            # Sorting to align with keys\n",
    "            # sorted_results = sorted(results, key=lambda res: keys.index(json.loads((json.loads(json.loads(res[0]))[\"kwargs\"][\"page_content\"]).replace(\"'\", '\"'))[\"id\"]))\n",
    "    \n",
    "            for result in results:\n",
    "                if result[0] is not None:\n",
    "                    data_list.append(json.loads(result[0]).encode(\"utf-8\"))\n",
    "                else:\n",
    "                    data_list.append(None)\n",
    "                    \n",
    "        cursor.close()\n",
    "\n",
    "        return data_list\n",
    "        \n",
    "    def mset(self, key_value_pairs: Sequence[Tuple[int, bytes]]) -> None:\n",
    "        insert_queries = []\n",
    "        for key, value in key_value_pairs:\n",
    "            insert_query = Query.into(self.table).columns(self.id_column, self.data_column).insert(key, json.dumps(value.decode('utf-8')))\n",
    "            insert_queries.append(insert_query)\n",
    "\n",
    "        cursor = self.connection.cursor()\n",
    "        for query in insert_queries:\n",
    "            cursor.execute(query.get_sql())\n",
    "\n",
    "        self.connection.commit()\n",
    "\n",
    "        cursor.close()\n",
    "\n",
    "    def mdelete(self, keys: Sequence[int]) -> None:\n",
    "        delete_query = Query.from_(self.table).delete().where(self.id_column.isin(keys))\n",
    "\n",
    "        cursor = self.connection.cursor()\n",
    "        cursor.execute(delete_query.get_sql())\n",
    "\n",
    "        self.connection.commit()\n",
    "\n",
    "        cursor.close()\n",
    "\n",
    "    def yield_keys(self, prefix: Optional[str] = None) -> Iterator[str]:\n",
    "        select_query = Query.from_(self.table).select(self.id_column)\n",
    "        if prefix:\n",
    "            select_query = select_query.where(self.id_column.like(f'{prefix}%'))\n",
    "\n",
    "        cursor = self.connection.cursor()\n",
    "        cursor.execute(select_query.get_sql())\n",
    "\n",
    "        for row in cursor.fetchall():\n",
    "            yield row[0]\n",
    "\n",
    "        cursor.close()\n",
    "\n",
    "\n",
    "ChromaStore_sqlite3.sqlite3_db_path = sqlite3_db_path\n",
    "\n",
    "print('done')"
   ]
  },
  {
   "cell_type": "code",
   "execution_count": 16,
   "id": "441f7478-c9c7-42d4-9ad1-b4f95da2ea82",
   "metadata": {},
   "outputs": [],
   "source": [
    "# from langchain.embeddings import HuggingFaceEmbeddings\n",
    "from sentence_transformers import SentenceTransformer\n",
    "from typing import List"
   ]
  },
  {
   "cell_type": "markdown",
   "id": "b501ca64-4733-40ea-9cfc-cafae7959a61",
   "metadata": {},
   "source": [
    "此處定義 embedding 模型，nomic-embed-text-v1 目前測試對於繁體中文支持度較差，須待測試更換其他模型。"
   ]
  },
  {
   "cell_type": "code",
   "execution_count": 17,
   "id": "484f9fa9-7d6b-463a-837e-f34581ee54ee",
   "metadata": {},
   "outputs": [
    {
     "name": "stdout",
     "output_type": "stream",
     "text": [
      "done\n"
     ]
    }
   ],
   "source": [
    "# 8k token\n",
    "class Nomic_Embed_V1:\n",
    "        def __init__(self, model):\n",
    "            self.model = SentenceTransformer(model, trust_remote_code=True)\n",
    "    \n",
    "        def embed_documents(self, texts: List[str]) -> List[List[float]]:\n",
    "            return [self.model.encode(t).tolist() for t in texts]\n",
    "        \n",
    "        def embed_query(self, query: str) -> List[float]:\n",
    "            return self.model.encode([query]).tolist()[0]\n",
    "\n",
    "\n",
    "# embeddings = Nomic_Embed_V1(\"nomic-ai/nomic-embed-text-v1\")\n",
    "\n",
    "print('done')"
   ]
  },
  {
   "cell_type": "code",
   "execution_count": 18,
   "id": "e766d978-3973-43f1-94c7-ed3a4bd5c909",
   "metadata": {},
   "outputs": [
    {
     "name": "stderr",
     "output_type": "stream",
     "text": [
      "Some weights of BertModel were not initialized from the model checkpoint at infgrad/stella-base-zh-v3-1792d and are newly initialized: ['bert.pooler.dense.bias', 'bert.pooler.dense.weight']\n",
      "You should probably TRAIN this model on a down-stream task to be able to use it for predictions and inference.\n"
     ]
    },
    {
     "name": "stdout",
     "output_type": "stream",
     "text": [
      "done\n"
     ]
    }
   ],
   "source": [
    "# 512 token\n",
    "class Stella_Base_zh_v3_1792d:\n",
    "        def __init__(self, model):\n",
    "            self.model = SentenceTransformer(model, trust_remote_code=True)\n",
    "    \n",
    "        def embed_documents(self, texts: List[str]) -> List[List[float]]:\n",
    "            return [self.model.encode(t).tolist() for t in texts]\n",
    "        \n",
    "        def embed_query(self, query: str) -> List[float]:\n",
    "            return self.model.encode([query]).tolist()[0]\n",
    "\n",
    "\n",
    "embeddings = Stella_Base_zh_v3_1792d(\"infgrad/stella-base-zh-v3-1792d\")\n",
    "\n",
    "print('done')"
   ]
  },
  {
   "cell_type": "code",
   "execution_count": 9,
   "id": "eecd02e1-3c16-4f90-87f7-9b8e9b5e4afe",
   "metadata": {},
   "outputs": [],
   "source": [
    "# embeddings"
   ]
  },
  {
   "cell_type": "markdown",
   "id": "2c75ead2-4cd7-4eef-8331-3dcb8d68590b",
   "metadata": {},
   "source": [
    "定義 vectorestore"
   ]
  },
  {
   "cell_type": "code",
   "execution_count": 20,
   "id": "8e58a2cf-0555-4068-8a2a-d4b0a30f9916",
   "metadata": {},
   "outputs": [
    {
     "name": "stdout",
     "output_type": "stream",
     "text": [
      "done\n"
     ]
    }
   ],
   "source": [
    "# 選定一個 ChromaDB 裡面的 collection，需要與先前的 sqlite3 db對應，例如 t5對應t5，t6對應t6，t8對應t8。\n",
    "\n",
    "# collection_name = \"simple_html_nomic_embed_text_v1_f16_t5\"\n",
    "# collection_name = \"simple_html_nomic_embed_text_v1_f16_t6_with_qa\"\n",
    "# collection_name = \"simple_html_nomic_embed_text_v1_f16_t8_aia_with_qa\"\n",
    "collection_name = \"simple_html_Stella_Base_zh_v3_1792d_t13_aia_with_qa\"\n",
    "\n",
    "\n",
    "remote_vectorestore = Chroma(\n",
    "    collection_name = collection_name,\n",
    "    embedding_function=embeddings,\n",
    "    client=httpClient\n",
    ")\n",
    "\n",
    "print('done')"
   ]
  },
  {
   "cell_type": "markdown",
   "id": "c754a684-8ab7-4807-b003-576e56faf973",
   "metadata": {},
   "source": [
    "定義 MultiVectorRetriever"
   ]
  },
  {
   "cell_type": "code",
   "execution_count": 21,
   "id": "64119f2b-6d83-43d6-9067-a0f60cf9329f",
   "metadata": {},
   "outputs": [
    {
     "name": "stdout",
     "output_type": "stream",
     "text": [
      "done\n"
     ]
    }
   ],
   "source": [
    "# doc_store_path 指定為存放下載的 sqlite3 檔案的目錄\n",
    "# top k 值 可更換\n",
    "\n",
    "doc_store_path = r\"C:\\doc_store\"\n",
    "\n",
    "\n",
    "cs = ChromaStore_sqlite3(doc_store_path, \"docstore\")\n",
    "store = create_kv_docstore(cs)\n",
    "\n",
    "id_key = \"doc_id\"\n",
    "\n",
    "# The retriever (empty to start)\n",
    "retriever = MultiVectorRetriever(\n",
    "    vectorstore=remote_vectorestore, #remote_vectorestore\n",
    "    docstore=store,\n",
    "    id_key=id_key,\n",
    "    search_kwargs={\"k\": 5}, # top k，invoke時招回的前 k 個相似的向量\n",
    ")\n",
    "\n",
    "print('done')"
   ]
  },
  {
   "cell_type": "code",
   "execution_count": 22,
   "id": "21586185-e410-40ef-b4af-77d36d74d5e0",
   "metadata": {},
   "outputs": [
    {
     "name": "stdout",
     "output_type": "stream",
     "text": [
      "94\n"
     ]
    }
   ],
   "source": [
    "all_documents = remote_vectorestore.get()['documents'] # 查看目前 collection 內的檔案數據\n",
    "\n",
    "print(len(all_documents))"
   ]
  },
  {
   "cell_type": "code",
   "execution_count": 23,
   "id": "d7b61564-2a72-420a-8e28-2165fdda0bc4",
   "metadata": {
    "editable": true,
    "slideshow": {
     "slide_type": ""
    },
    "tags": []
   },
   "outputs": [],
   "source": [
    "# all_documents = remote_vectorestore.get()['documents'] # 查看目前 collection 內的檔案數據\n",
    "\n",
    "# for doc in all_documents:\n",
    "#     print(doc)\n",
    "#     print('------------')"
   ]
  },
  {
   "cell_type": "markdown",
   "id": "eccc847c-bf57-43c6-80b0-d4557247ee8c",
   "metadata": {},
   "source": [
    "Langchain 的 MultiVectorRetirever，會先從 vectorstore 招回跟query相似的向量，然後經由id_key，返回docstore裡面對應的原始資料塊。  \n",
    "\n",
    "我目前的做法是: 將原始資料切割後，存放在docstore裡面，並利用LLM模型(llama3:8b)對切割後的原始資料做主標題跟次標題的語意分析。  \n",
    "\n",
    "使用下方的查詢，可以看到經由 vectorstore 返回的前 k 相似的招回。 上方的方法可以總攬 collection 內的所有檔案數據。  \n",
    "\n",
    "目前的招回結果差強人意，等待測試更換其他的embedding模型看看回不會好一些。"
   ]
  },
  {
   "cell_type": "code",
   "execution_count": 24,
   "id": "24905283-7185-4175-9843-866c613dc322",
   "metadata": {},
   "outputs": [
    {
     "name": "stdout",
     "output_type": "stream",
     "text": [
      "page_content='主標題：LLM初階班│第四期\\n\\n目錄：\\n\\n1. 獲錄取者註冊繳費規定\\n2. 課前準備\\n3. 課程大綱\\n4. 專題討論\\n5. 注意事項\\n6. 退費辦法' metadata={'doc_id': '5a736f64e688-1'}\n",
      "page_content='主標題：LLM初階班│第四期\\n\\n目錄：\\n\\n1. 辦公室流程自動化（RPA）\\n2. 大型語言模型（LLM）\\n3. RPA 與 LLM 螺合的優勢\\n4. 課程成果\\n5. 課程資訊\\n6. 上課方式\\n7. 適合對象\\n8. 課程目標\\n9. 課程內容\\n10. 課程效益' metadata={'doc_id': '5a736f64e688-0'}\n",
      "page_content='主標題：LLM進階班│第四期-招生簡章退費辦法更新版0427\\n\\n目錄：\\n\\n1. 課程大綱\\n2. 報名網址\\n3. 課程簡介\\n4. 課程成果\\n5. 課程資訊\\n6. 課程目標\\n7. 課程內容\\n8. 課程效益\\n9. 學費標準\\n10. 報名方式' metadata={'doc_id': 'cca76c53cdfd-0'}\n",
      "page_content='主標題: LLM進階班│第四期-招生簡章退費辦法更新版0427\\n\\n目錄:\\n\\n1. 報名繳費流程\\n2. 獲錄取者註冊繳費通知\\n3. 註冊繳費方式選擇\\n4. 課前準備\\n5. 課程大綱\\n6. 課程照片\\n7. 課程大綠週次內容\\n8. 資料處理及連接\\n9. LLM 開源模型微調方式\\n10. 生成式 AI 產業應用' metadata={'doc_id': 'cca76c53cdfd-1'}\n",
      "page_content='主標題：2024-LLM課程設計(做AI_四天)  地點更新版\\n\\n目錄：\\n\\n1. 課程概述\\n2. 報名方式\\n3. 入學考試\\n4. 獲錄取通知及註冊繳費\\n5. 註冊繳費辦法\\n6. 注意事項' metadata={'doc_id': '04251beb763a-1'}\n",
      "page_content='主標題：2024-LLM課程設計(做AI_四天)\\n\\n目錄：\\n\\n1. 報名資格\\n2. 學費標準\\n3. 校友優惠\\n4. 團報優惠\\n5. 報名方式\\n6. 入學考試\\n7. 放榜日期\\n8. 獲錄取通知及註冊繳費\\n9. 註冊繳費期限\\n10. 注意事項' metadata={'doc_id': '4b102d2f4809-1'}\n",
      "page_content='主標題：2024-LLM課程設計（做AI_四天） 地點更新版\\n\\n目錄：\\n\\n1. 課程大綱\\n2. 課程簡介\\n3. 課程目標\\n4. 課程效益\\n5. 課程前準備建議\\n6. 課程上課方式\\n7. 課程上課地點\\n8. 招生人數\\n9. 招生對象\\n10. 入學條件' metadata={'doc_id': '04251beb763a-0'}\n",
      "page_content='主標題: LLM進階班│第三期-\\n\\n目錄:\\n\\n1. 註冊繳費\\n2. 獲錄取者需於收到錄取通知後 3 天內 完成註冊繳費\\n3. 未依規定辦理或逾期未註冊者，取消入學資格\\n4. 課前準備：Transformer, GPT, fine-tuning, Hallucinations 等\\n5. 課程大綱：人工智慧到大型語言模型概論、資料處理及連接、LLM 開源模型微調方式、生成式 AI 產業應用\\n6. 課程照片\\n7. 課程大綠：週次、課程大綠、教學內容\\n8. 前幾期小組成果發表主題：AI 助手、交通貓貓機器人 等\\n9. 調整 LangChain 模型\\n10. 使用 LangChain 實作相關企業案例 LangChain 與 RAG\\n11. PEFT (LoRA, QLoRA, PEFT) 參數微調方法\\n12. LLM 應用 (RAG & multimodal)\\n13. 智慧對話、全面性的資訊服務 等相關實例分享' metadata={'doc_id': '9fa0705d44f7-1'}\n",
      "page_content='主標題: 2024-LLM課程設計-素養課程(用AI_兩天)\\n\\n目錄:\\n\\n1. 報名方式\\n2. 獲錄取通知及註冊繳費\\n3. 註冊繳費注意事項\\n4. 退費辦法\\n5. 課程資訊\\n6. 課程內容理論知識\\n7. 大型語言模型(LLM) 概論\\n8. 大型語言模型(LLM) 運作技術原理\\n9. ChatGPT基礎及延伸應用\\n10. ChatGPT 高效問答術' metadata={'doc_id': 'a1abe7d8a968-1'}\n",
      "page_content='主標題: 2024-LLM課程設計(做AI_四天)\\n\\n目錄:\\n\\n1. 課程資訊\\n2. 課程大綱\\n3. 第一週人工智慧到大型語言模型概論\\n4. 第二週LangChain 使用及應用\\n5. 第三週LLM 開源模型微調方式\\n6. 第四週生成式 AI 平台' metadata={'doc_id': '4b102d2f4809-2'}\n"
     ]
    }
   ],
   "source": [
    "test_data_retrieve = retriever.vectorstore.similarity_search(\"第四期LLM初階班開課時間\", k=10)\n",
    "\n",
    "for x in test_data_retrieve:\n",
    "    print(x)"
   ]
  },
  {
   "cell_type": "code",
   "execution_count": null,
   "id": "1c065d8b-efea-4e95-9707-a04da2e7f80a",
   "metadata": {},
   "outputs": [],
   "source": []
  },
  {
   "cell_type": "code",
   "execution_count": null,
   "id": "fb78b151-c5c0-43e4-a4db-7a5928eed7b7",
   "metadata": {},
   "outputs": [],
   "source": []
  },
  {
   "cell_type": "code",
   "execution_count": null,
   "id": "c06d8efb-992a-4000-ab27-89939b160609",
   "metadata": {},
   "outputs": [],
   "source": []
  },
  {
   "cell_type": "markdown",
   "id": "e28ef37d-7f82-48d4-b8f4-07b309710916",
   "metadata": {},
   "source": [
    "下方的查詢是 MultiVectorRetriever 真正所返回的存放在docstore裡面的原始文件切塊。 可以看到兩邊的 id 是對應的。  \n",
    "top k 值無法參數指定，定義retriever時已指定。若要更換需要重新定義一次。"
   ]
  },
  {
   "cell_type": "code",
   "execution_count": 25,
   "id": "31b898a3-1706-47a0-8158-9eeed349d2d2",
   "metadata": {},
   "outputs": [
    {
     "name": "stdout",
     "output_type": "stream",
     "text": [
      "page_content=\"{'id': '5a736f64e688-1', 'title': 'LLM初階班│第四期', 'text': '2. 獲錄取者需於收到錄取通知後 3 天內 完成註冊繳費。請於規定時間內辦理註冊及繳費，繳費方式可選擇線上金流 (刷卡) 或非線上金流 (轉帳)，若選擇非線上金流，系統會產生一組虛擬帳號，請務必在繳費期限內完成匯款繳費。繳費後才算完成報名程序。 3. 未依規定辦理或逾期未註冊者，取消入學資格，事後不得以任何理由要求補註冊。  ▍課前準備     1. 建議課前先使用gmail信箱註冊以下平台 ● OpenAI ● Make     2. 建議課前先安裝軟體 ● LM studio ( Mac 需 M1晶片以上) ● AnythingLLM     3. 請學員自備筆電，以便課程學習與小組專題實作  ▍前幾期小組成果發表主題 年節賀卡圖片生成推播 專案績效 AI 評分管理系統 旅遊行程規劃推播 法人金融報告流程自動化 課程滿意度問卷流程自動化 房屋建案資訊推播與問答 語音檔轉會議紀錄自動化 早安詩小話家 郵件內容條列整理推播 長輩圖新聞 Provider 可愛喵喵天氣推播 LINE 工作群請假/外出系統 快速依據圖片建立文案 AI 命理大師 在職進修課程推薦系統   ▍課程照片  \\\\n ▍課程大綱 週次 課程大綱 教學內容 第一週  ChatGPT 高效問答術 (Prompt engineering) ● 了解 LLM 的基本概念 ● 學習 LLM 的使用時機和方法 ● 讓 ChatGPT 角色扮演，得到更高品質的回應 ● 用模板和例子指導 ChatGPT，讓它執行你的任務 ○  Custom Instructions ● 用多個提示讓 ChatGPT 做更深的推理 ○  Few shot prompting ○  Chain of Thought prompt (思維鏈推理) ○  Chaining Prompts (多個提示鏈) ○  Tree-of Thought 辦公室流程自動化 ●  ChatGPT 輔助辦公室工作流程 ● 辦公室流程自動化實作  雲端、本機端LLM模型應用 ● 開源 LLM 模型介紹 ● 雲端聊天機器人體驗 ● 地端 LLM 模型應用 \\\\n專題討論 ● 專題討論 第二週 RPA應用程式介面 ●  RPA 概念介紹 ●  RPA 工具- Make 操作應用 ● 專題實作1- ChatGPT + Make  + Line 流程自動化 RPA應用程式介面 ● 專題實作2- ChatGPT + Make  + Line 流程自動化 運用 LLM 互動式介面工具 ● 雲端使用 LLM 模型開發客服機器人  ●  RAG 實作 專題實作討論與成果發表 ● 分組專題實作討論 ● 小組實作成果分享  ▍注意事項 1. 請務必於報名前詳閱本項招生簡章規定，避免日後因報名資格不符致被取消報考或影響錄取。 2. 學員註冊繳費後若因各種原因無法繼續課程，得依本校退費辦法進行退費，恕不提供補課與延期。 3. 上網登錄報名資料之通訊地址、電話號碼及電子郵件地址應正確，否則無法通知而致延誤考試及其他重要事項，其後果需自行負責。 4. 錄取者如發現所繳資料有偽造、變造、假借、冒用、剽竊、內容不實、塗改等情事，未入學者取消錄取資格，已入學者開除學籍，並應負法律責任，且不發給任何有關學業之證明，如係在本校結業後始發覺者，除勒令撤銷其結業證書外，並公告取消其結業資格。 5. 請詳閱課程資訊相關規定，學校保有修改、變更簡章及相關規定之權利。 6. 請詳閱並同意保密暨權益歸屬同意書。 https://aiacademy.tw/declaration \\\\n▍退費辦法 本課程退費時將酌收 10% 手續費，課程前十天內 (不含開課日) 不予退費。 第四期開課班別 退費時間  週三班-1 2024年06月23日（含）之前可退費。  週三班-2 2024年07月07日（含）之前可退費。 週六班-1 2024年06月26日（含）之前可退費。 週六班-2  2024年07月10日（含）之前可退費。 請注意，由於課程前十天內不予退費，以上日期均不包括開課日。'}\"\n",
      "page_content=\"{'id': '5a736f64e688-0', 'title': 'LLM初階班│第四期', 'text': '大型語言模型實作初階班 (第四期) 招生簡章 v.2024/04/02  簡章網址： 課程大綱： 報名網址： https://neti.cc/VzVLQRe  ▍課程簡介   辦公室流程自動化結合大語言模型，讓您的工作更輕鬆、更高效  您是否曾經為了重複性的辦公室工作而感到煩悶？您是否想要利用最新的人工智慧技術來提升您的工作品質和效率？如果您的答案是肯定的，您一定要了解「辦公室流程自動化」和「大型語言模型」協作的優勢。  1. 辦公室流程自動化(RPA)  - 使用軟體機器人執行重複性任務  - 包括填寫表單、發送電子郵件、處理文件等  - 可減少錯誤、節省時間、降低成本、提升生產力  2. 大型語言模型(LLM)  - 利用深度學習理解和生成自然語言  - 能處理翻譯、摘要撰寫、對話、創作等任務  - 提升語言技能、創新能力、溝通效果和競爭優勢  3. RPA 與 LLM 融合的優勢  - 使用 LLM 設計和優化辦公室流程  - 讓機器人更準確執行指定任務  - 使用機器人呼叫 LLM 加速語言相關工作  \\\\n ▍課程成果   ▍課程資訊 修業日期 週三班-1：2024 年 07 月 03 日及 07 月 10 日，共 2 日。 週三班-2：2024 年 07 月 17 日及 07 月 24 日，共 2 日。 週六班-1：2024 年 07 月 06 日及 07 月 13 日，共 2 日。 週六班-2：2024 年 07 月 20 日及 07 月 27 日，共 2 日。  請注意，LLM初階班（週三班-1、週三班-2、週六班-1、週六班-2）因為包含分組專題活動，一旦選定上課日期後無法更改。請於選課前謹慎考慮，確認自己的行程是否符合上述日期。備註: 若每班不足30人得延期或併班。校方保留調整班級安排之權利。 上課方式 實體課程，上課時間為 9:00 - 17:00 ( 提供午餐 ) ，2週共 14小時。 上課地點 台灣人工智慧學校台北總校 | 新板金融大樓 地址：新北市板橋區中山路一段141號 14 樓   適合對象 對辦公室自動化及大型語言模型應用有興趣者 ( 無程式背景可 ) 課程目標 1. 了解大型語言模型的原理和功能 2. 熟悉 ChatGPT 的提問技巧和延伸應用 3. 學會用 ChatGPT 結合其他工具自動化工作流程 4. 探索開源大型語言模型的特色和應用 5. 建立適用特定場景的聊天機器人 \\\\n課程內容 1. ChatGPT基礎及延伸應用 (5小時) a. ChatGPT 高效問答術 (2 小時)：助教/AIA 工程師 b. ChatGPT 實用擴充元件(1.5小時)：助教/AIA 工程師 c.  ChatGPT 應用程式(1.5小時)：助教/AIA 工程師 2. ChatGPT工作流程自動化實作(5小時) a. 自動化原理與相關工具介紹(1.5小時)：助教/AIA 工程師 b. ChatGPT 流程自動化(2小時)：助教/AIA 工程師 c.  小組專題討論與實作(1.5小時) 3. 開源大型語言模型應用實作 (4小時) a. 認識開源大型語言模型 (0.5 小時)：助教/AIA 工程師 b. 特定情境問答機器人部署實作 (2 小時)：助教/AIA 工程師 c.  分組專題成果發表(1.5小時)：助教/AIA 工程師 課程效益 1. 能善用 ChatGPT、Claude 、Gemini 等聊天機器人協作日常任務 2. 打造結合大型語言模型的辦公室工作流程自動化專案- AI 客服管理工具 3. 能運用自帶資料輔助大型語言模型，打造符合個人需求或公司特定應用情境的 AI 助理 4. 能了解如何將問答機器人部署為應用程式介面 5. 透過小組專題實作與成果分享，增進專題實作能力  學費標準 1. 一般報名費用: 15,000 元 2. 優惠方案: a. 校友優惠(13,500元/人)：本校校友，報名時填寫學號。 b. 團體優惠(13,500元/人，三人以上)：報名時需一起完成線上報名，並由報名窗口發送郵件至 hi@aiacademy.tw 林小姐確認審核。 報名方式 本招生採網路報名，請於報名截止日 2024 年 6 月 24 日前 上網填寫報名資料。請完整填寫報名表，以利完成審核程序。 註冊繳費 1. 報名後會先收到一封【報名登記確認信】，待通過學校審核，系統會再寄發【報名及註冊的登記已可進行下一步報名作業】信件通知，請點選信件中的連結網址以完成報名及註冊繳費程序。'}\"\n",
      "page_content=\"{'id': 'cca76c53cdfd-0', 'title': 'LLM進階班│第四期-招生簡章退費辦法更新版0427', 'text': '大型語言模型實作進階班 (第四期) 招生簡章 v.2024/04/02  簡章網址： 課程大綱： 報名網址：https://neti.cc/36VO6vX  ▍課程簡介 基於上百家企業需求想要用大型語言模型建置企業內部的「企業大腦」，因各企業的資料有機敏性與獨特性，無法使用公開的大型語言模型。此外微調及部署大型語言模型服務有一定的門檻在，不論是在設備上、資料處理上、技術上等。  台灣人工智慧學校深知大型語言模型在當今 AI 領域的重要性，因此特別開設此課程。本課程旨在讓學員不只理解大型語言模型的基本原理，更透過上機實作教學和專題實作導引，熟練地將這些技術應用於實際問題中，開發出具有價值的 AI 應用。我們期望，透過這樣的完整培訓，能為未來的 AI 領域孕育更多的專業人才，共同推進這一革命性技術的進步。   ▍課程成果 \\\\n    圖：學員專題成果，地端檢索增強生成 (Retrieval-Augmented Generation, RAG) 串接資料庫進行資料檢索。  \\\\n     ▍課程資訊  修業日期 2024 年 8 月 03 日 ， 8 月 10 日， 8 月 17 日 ， 8 月 24 日 每週六，共 4 週。 上課方式 實體課程，上課時間為 9:00 - 17:30 ( 提供午餐 ) ，4週共 30小時。 上課地點 台灣人工智慧學校台北總校 | 新板金融大樓 地址：新北市板橋區中山路一段141號 14 樓 適合對象 1. 具有 AI 基本知識的技術研發人員與主管 (具備 Python 程式能力) 2. 本課程涵蓋程式實作及模型微調，授課將運用 LangChain 和 Huggingface 等工具包。學員需具備 Python 語言能力和機器學習基礎知識，無須參加入學考試。請先行評估個人程度再行報名。 課程目標 1. 學習 4 大課程主題與方法： a. 理解大型語言模型 b. 實作大型語言模型 c.  實作問答機器人 d. 大型語言模型部署 2. 上機實作熟悉大語言模型的技術能力。 3. 主題性的專題實作，培養專案實作的能力。 課程內容 1. 理論知識 (3 小時) a.  LLM 簡介 (3 小時)：專門領域教授 2. 上機習作 (14 小時) a. 文字資料 (3 小時)：助教/AIA 工程師 b. 微調大型語言模型 (7 小時)：助教/AIA 工程師 c.  架設生成式 AI 平台 (1 小時)：助教/AIA 工程師 d. 問答機器人 (3 小時)：助教/AIA 工程師 3. 專題實作 (4 週，時數 5 小時) \\\\n   a. 專題實作引導 (4 小時)：助教/AIA 工程師 b. 專題成果分享 (1 小時)：助教/AIA 工程師 4. 專題演講 (8 小時) a. 專題演講：2場專門領域教授、業界實務經驗專家 b. 生成式 AI 平台 c.  大型語言模型實作進階班優秀專題成果於課中分享 課程效益 1. 能創建企業聊天機器人： a. 設計和開發能夠理解並回應企業內部查詢的聊天機器人。 b. 實現機器人與公司資料庫的集成，以提供即時的查詢回應。 c.  進行機器人效能測試並根據反饋進行優化。 2. 能可微調開源大型語言模型： a. 選擇適合的開源大型語言模型並進行微調，以符合公司特定的需求和應用場景。 b. 收集和整理適用於微調開源大型語言模型的業務相關資料集。 c.  評估微調後的大型語言模型效能並進行必要的調整。 3. 能部署地端大型語言模型程式： a. 架設和配置必要的部署架構，以在地端環境中運行大型語言模型。 b. 確保模型部署的安全性和效能，包括資料保護和效能優化。 c.  進行系統測試並解決任何出現的技術問題。 學費標準 1. 一般報名費用: 40,000 元 2. 優惠方案: a. 校友優惠(32,000元/人)：本校校友，報名時填寫學號。 b. 團體優惠(32,000元/人，三人以上)：報名時需一起完成線上報名，並由報名窗口發送郵件至 hi@aiacademy.tw 林小姐確認審核。 c.  初階班校友優惠(29,000元)：初階班結業，報名時填寫學號。 報名方式 本招生採網路報名，請於報名截止日 2024 年 07 月 22 日前 (含 07/22 當日) 上網填寫報名資料。請完整填寫報名表，以利完成審核程序。'}\"\n",
      "page_content=\"{'id': 'cca76c53cdfd-1', 'title': 'LLM進階班│第四期-招生簡章退費辦法更新版0427', 'text': '註冊繳費 1. 報名後會先收到一封【報名登記確認信】，待通過學校審核，系統會再寄發【報名及註冊的登記已可進行下一步報名作業】信件通知，請點選信件中的連結網址以完成報名及註冊繳費程序。 2. 獲錄取者需於收到錄取通知後 3 天內 完成註冊繳費。請於規定時間內辦理註冊及繳費，繳費方式可選擇線上金流 (刷卡) 或非線上金流 (轉帳)，若選擇非線上金流，系統會產生一組虛擬帳號，請務必在繳費期限內完成匯款繳費。繳費後才算完成報名程序。 3. 未依規定辦理或逾期未註冊者，取消入學資格，事後不得以任何理由要求補註冊。  ▍課前準備 1. 建議課前請有先備知識例如：Transformer, GPT, fine-tuning, Hallucinations 等。 以下為參考閱讀文獻： a.  Attention Is All You Need - https://arxiv.org/pdf/1706.03762.pdf b.  Improving Language Understanding by Generative Pre-Training - https://www.cs.ubc.ca/~amuham01/LING530/papers/radford2018improving.pdf c.  Language Models are Unsupervised Multitask Learners - https://d4mucfpksywv.cloudfront.net/better-language-models/language_models_are_unsupervised_multitask_learners.pdf d.  Language models are few-shot learners - https://arxiv.org/pdf/1706.03762.pdf e.  Training language models to follow instructions with human feedback - https://arxiv.org/pdf/2203.02155.pdf f.  LLaMA: Open and Efficient Foundation Language Models - https://research.facebook.com/publications/llama-open-and-efficient-foundation-language-models g.  Llama 2: Open Foundation and Fine-Tuned Chat Models - https://arxiv.org/pdf/2307.09288.pdf  2. 課程有專題實作與呈現，建議準備網頁或PDF問答資料(網頁示例)用於微調大型語言模型。 3. 請學員自備筆電，以便課程學習與小組專題實作。( 記憶體至少16 GB 以上 ) 4. 上課環境使用 Google Colab 5. 請先安裝 Docker 軟體  \\\\n   ▍前幾期小組成果發表主題  營養師 AI 助手 交通貓貓機器人 保險 AI 經營資料分析與趨勢預測 ISO 27001 問答機器人 智慧型農業供應鏈系統 標快手!自由雙手 智慧探索公司智識庫 疾藥綜合系統  ▍課程照片    ▍課程大綱 週次 課程大綱 教學內容 \\\\n   第一週 人工智慧到大型語言模型概論 ● 人工智慧與 LLM 概論 ●  LLM 的道德議題、限制與風險 ● 相關實例分享 生成式 AI 平台 ● 架設生成式 AI 平台 LangChain 概述 ●  LangChain 介紹及應用 ● 基本 LangChain 套件使用  第二週 資料處理及連接 ●  Data Connection LangChain 使用及應用 ●  Agent ●  Memory ●  Callback 企業案例應用 + 題目及解析 ●  LangChain 實例解析 ● 使用 LangChain 實作相關企業案例 LangChain 與 RAG ● 檢索增強  (Retrieval Augmented Generation, RAG) 介紹 ● 使用 Langchain 實現 RAG 第三週 LLM 開源模型微調方式 ● 介紹開源 LLM 模型 ● 微調開源 LLM 模型 訓練效能框架與應用 ●  PEFT (LoRA, QLoRA, PEFT) 參數微調方法 ●  LLM 應用 (RAG & multimodal) 第四週 生成式 AI 產業應用 ● 智慧對話 ● 全面性的資訊服務 ● 相關實例分享 成果發表'}\"\n",
      "page_content=\"{'id': '04251beb763a-1', 'title': '2024-LLM課程設計(做AI_四天)  地點更新版', 'text': '40,000 元。若同時報名初階班 (LLM-A) + 進階班 (LLM-B) ，並錄取通過，則二班課程享原價 八 折( 新台幣 44,000 元 )。\\\\xa0▍校友優惠專享每人新台幣 36,000 元。本校各班別結業之校友，於報名時附上學員編號，經查核後得享有校友優惠。若同時報名初階班 (LLM-A) + 進階班 (LLM-B) ，並錄取通過，則二班課程享原價 八 折( 新台幣 44,000 元 )。\\\\xa0▍團報優惠專享 ( 5人 )每人新台幣 32,000 元。團體報名專屬優惠：報名人數達 5 位以上，每人優惠價為 $32,000。請所有參加者透過線上報名系統完成報名，報名完成後再由報名窗口發送郵件至 hi@aiacademy.tw 聯絡林小姐確認審核。\\\\xa0▍報名方式本招生採網路報名，請於報名截止日 2024 年 02 月 14 日前 (含 02/14 當日) 上網填寫報名資料。請完整填寫報名表，以利完成審核程序。\\\\xa0▍入學考試考試時間：2024 年 02 月 16 日 週五 19:00 - 20:10考試範圍為程式設計，透過線上考試確認應試者的基本能力。程式設計以 Python 作為答題的程式語言，線上考試的形式包括選擇題 (語法相關約10題) 與程式撰寫 (演算法相關約3題)。\\\\xa0入學考通知信將於考前一天 02/15 ( 四 ) 17:00 後以簡訊通知，並寄發考試連結通知信至您的信箱中。\\\\xa0▍放榜放榜日期將於 02 月 17 日 週六 17:00 後寄發錄取 / 未錄取通知\\\\xa0公布方式：以電子郵件與簡訊寄發錄取通知。\\\\xa0放榜後，考生應主動查詢，獲知錄取後如期辦理註冊，避免因系統擋信或漏信而影響註冊。逾期未註冊者，不得以未接獲通知為由要求補救措施。▍錄取通知及註冊繳費1.\\\\xa0\\\\xa0\\\\xa0\\\\xa0 報名後會收到一封報名登記確認信，待通過入學考試後，會再寄一封電子郵件到報名時所留的信箱通知錄取，請點選信件中的連結網址以完成報名及註冊繳費程序。2.\\\\xa0\\\\xa0\\\\xa0\\\\xa0 獲錄取者需於收到錄取通知後 3 天內 完成註冊繳費。請於規定時間內辦理註冊及繳費，繳費方式可選擇線上金流 (刷卡) 或非線上金流 (轉帳)，若選擇非線上金流，系統會產生一組虛擬帳號，請務必在繳費期限內完成匯款繳費。繳費後才算完成報名程序。3.\\\\xa0\\\\xa0\\\\xa0\\\\xa0 未依規定辦理或逾期未註冊者，取消入學資格，事後不得以任何理由要求補註冊。▍注意事項1.\\\\xa0\\\\xa0\\\\xa0\\\\xa0 請務必於報名前詳閱本項招生簡章規定，避免日後因報名資格不符致被取消報考或影響錄取。2.\\\\xa0\\\\xa0\\\\xa0\\\\xa0 上網登錄報名資料之通訊地址、電話號碼及電子郵件地址應正確，否則無法通知而致延誤考試及其他重要事項，其後果需自行負責。3.\\\\xa0\\\\xa0\\\\xa0\\\\xa0 錄取者如發現所繳資料有偽造、變造、假借、冒用、剽竊、內容不實、塗改等情事，未入學者取消錄取資格，已入學者開除學籍，並應負法律責任，且不發給任何有關學業之證明，如係在本校結業後始發覺者，除勒令撤銷其結業證書外，並公告取消其結業資格。4.\\\\xa0\\\\xa0\\\\xa0\\\\xa0 請詳閱課程資訊相關規定，學校保有修改、變更簡章及相關規定之權利。5.\\\\xa0\\\\xa0\\\\xa0\\\\xa0 請詳閱並同意保密暨權益歸屬同意書。 https://aiacademy.tw/declaration\\\\xa0\\\\xa0日期時程表2024 / 02 / 16入學考試2024 / 02 / 17入學考放榜2024 / 02 / 20錄取生註冊繳費截止日2024 / 03 / 09課程開始2024 / 03 / 30課程結束\\\\xa0▍退費辦法退費時間學費退還金額於當期課程開課日前 7 日內提出退費申請者( 2024/03/02 以前 )應退還當期開班約定繳納費用總額百分之九十。於當期課程開課當日至開課日後'}\"\n"
     ]
    }
   ],
   "source": [
    "test_data_invoke = retriever.invoke(\"第四期LLM初階班開課時間\")\n",
    "\n",
    "for x in test_data_invoke:\n",
    "    print(x)"
   ]
  },
  {
   "cell_type": "code",
   "execution_count": null,
   "id": "252c62ee-788f-4438-8688-74f4142647d3",
   "metadata": {},
   "outputs": [],
   "source": []
  },
  {
   "cell_type": "code",
   "execution_count": null,
   "id": "fa6136de-d9b1-44f5-b90a-51b45fb86714",
   "metadata": {},
   "outputs": [],
   "source": []
  },
  {
   "cell_type": "code",
   "execution_count": null,
   "id": "ad8dfead-2d3b-446a-9031-db7e4b8d0bca",
   "metadata": {},
   "outputs": [],
   "source": []
  },
  {
   "cell_type": "code",
   "execution_count": null,
   "id": "da1b2efd-6b17-4201-8562-2b8dbe16e5cb",
   "metadata": {},
   "outputs": [],
   "source": []
  },
  {
   "cell_type": "code",
   "execution_count": null,
   "id": "03d6d29c-b82a-4c94-a1d0-8f51b435651d",
   "metadata": {},
   "outputs": [],
   "source": []
  },
  {
   "cell_type": "code",
   "execution_count": null,
   "id": "329fa2f0-31ee-4f69-9f71-149b6d91948c",
   "metadata": {},
   "outputs": [],
   "source": []
  },
  {
   "cell_type": "code",
   "execution_count": null,
   "id": "94cacb0d-c586-4c62-9a7d-bb7c57d154f4",
   "metadata": {},
   "outputs": [],
   "source": []
  },
  {
   "cell_type": "code",
   "execution_count": null,
   "id": "fca244c1-9378-4546-a0ae-eba456506d48",
   "metadata": {},
   "outputs": [],
   "source": []
  },
  {
   "cell_type": "code",
   "execution_count": null,
   "id": "0501a05d-bcae-411b-8a6f-2781d62e1b52",
   "metadata": {},
   "outputs": [],
   "source": []
  },
  {
   "cell_type": "code",
   "execution_count": null,
   "id": "df0271be-3200-4c78-9a10-e15c0812590e",
   "metadata": {},
   "outputs": [],
   "source": []
  },
  {
   "cell_type": "code",
   "execution_count": null,
   "id": "41e3cfe3-456f-46c4-8d08-424701e303cf",
   "metadata": {},
   "outputs": [],
   "source": []
  },
  {
   "cell_type": "code",
   "execution_count": null,
   "id": "e54665a9-18fc-4dbb-b36c-dc364c0ced23",
   "metadata": {},
   "outputs": [],
   "source": []
  },
  {
   "cell_type": "code",
   "execution_count": null,
   "id": "fdfad530-540a-4e4c-9ced-b79b3628125e",
   "metadata": {},
   "outputs": [],
   "source": []
  },
  {
   "cell_type": "code",
   "execution_count": null,
   "id": "47290b8a-9758-4181-9c64-6c9e35fa4be2",
   "metadata": {},
   "outputs": [],
   "source": []
  },
  {
   "cell_type": "code",
   "execution_count": null,
   "id": "22a0bdcc-f03d-40f9-86a9-d8caa86f10c2",
   "metadata": {},
   "outputs": [],
   "source": []
  },
  {
   "cell_type": "code",
   "execution_count": null,
   "id": "b97bf531-1a49-44fc-b2ba-11ffe6a33960",
   "metadata": {},
   "outputs": [],
   "source": []
  }
 ],
 "metadata": {
  "kernelspec": {
   "display_name": "Python 3 (ipykernel)",
   "language": "python",
   "name": "python3"
  },
  "language_info": {
   "codemirror_mode": {
    "name": "ipython",
    "version": 3
   },
   "file_extension": ".py",
   "mimetype": "text/x-python",
   "name": "python",
   "nbconvert_exporter": "python",
   "pygments_lexer": "ipython3",
   "version": "3.11.7"
  }
 },
 "nbformat": 4,
 "nbformat_minor": 5
}
